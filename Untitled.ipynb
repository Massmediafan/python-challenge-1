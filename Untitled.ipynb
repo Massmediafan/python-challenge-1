{
 "cells": [
  {
   "cell_type": "code",
   "execution_count": 1,
   "id": "822a0d9f-a756-4fe5-8ab7-9f527155fba9",
   "metadata": {},
   "outputs": [
    {
     "name": "stdout",
     "output_type": "stream",
     "text": [
      "thank you\n"
     ]
    }
   ],
   "source": [
    "print(\"thank you\")\n"
   ]
  },
  {
   "cell_type": "code",
   "execution_count": 2,
   "id": "6fe75b16-8e1e-4e27-b8bc-2d8fea2be7b7",
   "metadata": {},
   "outputs": [
    {
     "name": "stdin",
     "output_type": "stream",
     "text": [
      "Type 'q' to exit and anything else to continue.  s\n"
     ]
    }
   ],
   "source": [
    "user_play = input(\"Type 'q' to exit and anything else to continue. \")"
   ]
  },
  {
   "cell_type": "code",
   "execution_count": null,
   "id": "035ae2a6-96a9-40c4-9f1d-9bb438a343ba",
   "metadata": {},
   "outputs": [],
   "source": [
    "    if user_play == 'q':"
   ]
  },
  {
   "cell_type": "code",
   "execution_count": null,
   "id": "8424057e-2598-4905-9646-37d36949a714",
   "metadata": {},
   "outputs": [],
   "source": [
    "        break"
   ]
  }
 ],
 "metadata": {
  "kernelspec": {
   "display_name": "Python 3 (ipykernel)",
   "language": "python",
   "name": "python3"
  },
  "language_info": {
   "codemirror_mode": {
    "name": "ipython",
    "version": 3
   },
   "file_extension": ".py",
   "mimetype": "text/x-python",
   "name": "python",
   "nbconvert_exporter": "python",
   "pygments_lexer": "ipython3",
   "version": "3.11.7"
  }
 },
 "nbformat": 4,
 "nbformat_minor": 5
}
